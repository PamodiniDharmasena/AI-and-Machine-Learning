{
  "nbformat": 4,
  "nbformat_minor": 0,
  "metadata": {
    "colab": {
      "provenance": [],
      "authorship_tag": "ABX9TyM4FIReIXPJ0FwF2NuXaYh+",
      "include_colab_link": true
    },
    "kernelspec": {
      "name": "python3",
      "display_name": "Python 3"
    },
    "language_info": {
      "name": "python"
    }
  },
  "cells": [
    {
      "cell_type": "markdown",
      "metadata": {
        "id": "view-in-github",
        "colab_type": "text"
      },
      "source": [
        "<a href=\"https://colab.research.google.com/github/VirajDilshanKumarage/AI-and-Machine-Learning/blob/cross_validation/CrossValidation.ipynb\" target=\"_parent\"><img src=\"https://colab.research.google.com/assets/colab-badge.svg\" alt=\"Open In Colab\"/></a>"
      ]
    },
    {
      "cell_type": "code",
      "execution_count": null,
      "metadata": {
        "id": "4PdDCw4llZ2b"
      },
      "outputs": [],
      "source": []
    },
    {
      "cell_type": "markdown",
      "source": [
        "# cross Validation"
      ],
      "metadata": {
        "id": "Mu3qtKQmlud8"
      }
    },
    {
      "cell_type": "markdown",
      "source": [
        "select the best algoritm"
      ],
      "metadata": {
        "id": "Y9tBLF83mBbM"
      }
    },
    {
      "cell_type": "code",
      "source": [
        "import pandas as pd\n",
        "data=pd.read_csv('Iris.csv')\n",
        "data=data.drop('Id',axis=1)"
      ],
      "metadata": {
        "id": "sktMb9HHmCAc"
      },
      "execution_count": 2,
      "outputs": []
    },
    {
      "cell_type": "code",
      "source": [
        "x=data.drop('Species',axis=1)\n",
        "x.head()"
      ],
      "metadata": {
        "colab": {
          "base_uri": "https://localhost:8080/",
          "height": 206
        },
        "id": "vIuFbjykmTRM",
        "outputId": "004f9db9-1076-4885-e5f3-2b1d7fff60be"
      },
      "execution_count": 3,
      "outputs": [
        {
          "output_type": "execute_result",
          "data": {
            "text/plain": [
              "   SepalLengthCm  SepalWidthCm  PetalLengthCm  PetalWidthCm\n",
              "0            5.1           3.5            1.4           0.2\n",
              "1            4.9           3.0            1.4           0.2\n",
              "2            4.7           3.2            1.3           0.2\n",
              "3            4.6           3.1            1.5           0.2\n",
              "4            5.0           3.6            1.4           0.2"
            ],
            "text/html": [
              "\n",
              "\n",
              "  <div id=\"df-b41e9d51-daf5-437a-b133-c3ac8fac8c55\">\n",
              "    <div class=\"colab-df-container\">\n",
              "      <div>\n",
              "<style scoped>\n",
              "    .dataframe tbody tr th:only-of-type {\n",
              "        vertical-align: middle;\n",
              "    }\n",
              "\n",
              "    .dataframe tbody tr th {\n",
              "        vertical-align: top;\n",
              "    }\n",
              "\n",
              "    .dataframe thead th {\n",
              "        text-align: right;\n",
              "    }\n",
              "</style>\n",
              "<table border=\"1\" class=\"dataframe\">\n",
              "  <thead>\n",
              "    <tr style=\"text-align: right;\">\n",
              "      <th></th>\n",
              "      <th>SepalLengthCm</th>\n",
              "      <th>SepalWidthCm</th>\n",
              "      <th>PetalLengthCm</th>\n",
              "      <th>PetalWidthCm</th>\n",
              "    </tr>\n",
              "  </thead>\n",
              "  <tbody>\n",
              "    <tr>\n",
              "      <th>0</th>\n",
              "      <td>5.1</td>\n",
              "      <td>3.5</td>\n",
              "      <td>1.4</td>\n",
              "      <td>0.2</td>\n",
              "    </tr>\n",
              "    <tr>\n",
              "      <th>1</th>\n",
              "      <td>4.9</td>\n",
              "      <td>3.0</td>\n",
              "      <td>1.4</td>\n",
              "      <td>0.2</td>\n",
              "    </tr>\n",
              "    <tr>\n",
              "      <th>2</th>\n",
              "      <td>4.7</td>\n",
              "      <td>3.2</td>\n",
              "      <td>1.3</td>\n",
              "      <td>0.2</td>\n",
              "    </tr>\n",
              "    <tr>\n",
              "      <th>3</th>\n",
              "      <td>4.6</td>\n",
              "      <td>3.1</td>\n",
              "      <td>1.5</td>\n",
              "      <td>0.2</td>\n",
              "    </tr>\n",
              "    <tr>\n",
              "      <th>4</th>\n",
              "      <td>5.0</td>\n",
              "      <td>3.6</td>\n",
              "      <td>1.4</td>\n",
              "      <td>0.2</td>\n",
              "    </tr>\n",
              "  </tbody>\n",
              "</table>\n",
              "</div>\n",
              "      <button class=\"colab-df-convert\" onclick=\"convertToInteractive('df-b41e9d51-daf5-437a-b133-c3ac8fac8c55')\"\n",
              "              title=\"Convert this dataframe to an interactive table.\"\n",
              "              style=\"display:none;\">\n",
              "\n",
              "  <svg xmlns=\"http://www.w3.org/2000/svg\" height=\"24px\"viewBox=\"0 0 24 24\"\n",
              "       width=\"24px\">\n",
              "    <path d=\"M0 0h24v24H0V0z\" fill=\"none\"/>\n",
              "    <path d=\"M18.56 5.44l.94 2.06.94-2.06 2.06-.94-2.06-.94-.94-2.06-.94 2.06-2.06.94zm-11 1L8.5 8.5l.94-2.06 2.06-.94-2.06-.94L8.5 2.5l-.94 2.06-2.06.94zm10 10l.94 2.06.94-2.06 2.06-.94-2.06-.94-.94-2.06-.94 2.06-2.06.94z\"/><path d=\"M17.41 7.96l-1.37-1.37c-.4-.4-.92-.59-1.43-.59-.52 0-1.04.2-1.43.59L10.3 9.45l-7.72 7.72c-.78.78-.78 2.05 0 2.83L4 21.41c.39.39.9.59 1.41.59.51 0 1.02-.2 1.41-.59l7.78-7.78 2.81-2.81c.8-.78.8-2.07 0-2.86zM5.41 20L4 18.59l7.72-7.72 1.47 1.35L5.41 20z\"/>\n",
              "  </svg>\n",
              "      </button>\n",
              "\n",
              "\n",
              "\n",
              "    <div id=\"df-8cf9f856-df9c-4448-9726-3a035c11ac22\">\n",
              "      <button class=\"colab-df-quickchart\" onclick=\"quickchart('df-8cf9f856-df9c-4448-9726-3a035c11ac22')\"\n",
              "              title=\"Suggest charts.\"\n",
              "              style=\"display:none;\">\n",
              "\n",
              "<svg xmlns=\"http://www.w3.org/2000/svg\" height=\"24px\"viewBox=\"0 0 24 24\"\n",
              "     width=\"24px\">\n",
              "    <g>\n",
              "        <path d=\"M19 3H5c-1.1 0-2 .9-2 2v14c0 1.1.9 2 2 2h14c1.1 0 2-.9 2-2V5c0-1.1-.9-2-2-2zM9 17H7v-7h2v7zm4 0h-2V7h2v10zm4 0h-2v-4h2v4z\"/>\n",
              "    </g>\n",
              "</svg>\n",
              "      </button>\n",
              "    </div>\n",
              "\n",
              "<style>\n",
              "  .colab-df-quickchart {\n",
              "    background-color: #E8F0FE;\n",
              "    border: none;\n",
              "    border-radius: 50%;\n",
              "    cursor: pointer;\n",
              "    display: none;\n",
              "    fill: #1967D2;\n",
              "    height: 32px;\n",
              "    padding: 0 0 0 0;\n",
              "    width: 32px;\n",
              "  }\n",
              "\n",
              "  .colab-df-quickchart:hover {\n",
              "    background-color: #E2EBFA;\n",
              "    box-shadow: 0px 1px 2px rgba(60, 64, 67, 0.3), 0px 1px 3px 1px rgba(60, 64, 67, 0.15);\n",
              "    fill: #174EA6;\n",
              "  }\n",
              "\n",
              "  [theme=dark] .colab-df-quickchart {\n",
              "    background-color: #3B4455;\n",
              "    fill: #D2E3FC;\n",
              "  }\n",
              "\n",
              "  [theme=dark] .colab-df-quickchart:hover {\n",
              "    background-color: #434B5C;\n",
              "    box-shadow: 0px 1px 3px 1px rgba(0, 0, 0, 0.15);\n",
              "    filter: drop-shadow(0px 1px 2px rgba(0, 0, 0, 0.3));\n",
              "    fill: #FFFFFF;\n",
              "  }\n",
              "</style>\n",
              "\n",
              "    <script>\n",
              "      async function quickchart(key) {\n",
              "        const containerElement = document.querySelector('#' + key);\n",
              "        const charts = await google.colab.kernel.invokeFunction(\n",
              "            'suggestCharts', [key], {});\n",
              "      }\n",
              "    </script>\n",
              "\n",
              "      <script>\n",
              "\n",
              "function displayQuickchartButton(domScope) {\n",
              "  let quickchartButtonEl =\n",
              "    domScope.querySelector('#df-8cf9f856-df9c-4448-9726-3a035c11ac22 button.colab-df-quickchart');\n",
              "  quickchartButtonEl.style.display =\n",
              "    google.colab.kernel.accessAllowed ? 'block' : 'none';\n",
              "}\n",
              "\n",
              "        displayQuickchartButton(document);\n",
              "      </script>\n",
              "      <style>\n",
              "    .colab-df-container {\n",
              "      display:flex;\n",
              "      flex-wrap:wrap;\n",
              "      gap: 12px;\n",
              "    }\n",
              "\n",
              "    .colab-df-convert {\n",
              "      background-color: #E8F0FE;\n",
              "      border: none;\n",
              "      border-radius: 50%;\n",
              "      cursor: pointer;\n",
              "      display: none;\n",
              "      fill: #1967D2;\n",
              "      height: 32px;\n",
              "      padding: 0 0 0 0;\n",
              "      width: 32px;\n",
              "    }\n",
              "\n",
              "    .colab-df-convert:hover {\n",
              "      background-color: #E2EBFA;\n",
              "      box-shadow: 0px 1px 2px rgba(60, 64, 67, 0.3), 0px 1px 3px 1px rgba(60, 64, 67, 0.15);\n",
              "      fill: #174EA6;\n",
              "    }\n",
              "\n",
              "    [theme=dark] .colab-df-convert {\n",
              "      background-color: #3B4455;\n",
              "      fill: #D2E3FC;\n",
              "    }\n",
              "\n",
              "    [theme=dark] .colab-df-convert:hover {\n",
              "      background-color: #434B5C;\n",
              "      box-shadow: 0px 1px 3px 1px rgba(0, 0, 0, 0.15);\n",
              "      filter: drop-shadow(0px 1px 2px rgba(0, 0, 0, 0.3));\n",
              "      fill: #FFFFFF;\n",
              "    }\n",
              "  </style>\n",
              "\n",
              "      <script>\n",
              "        const buttonEl =\n",
              "          document.querySelector('#df-b41e9d51-daf5-437a-b133-c3ac8fac8c55 button.colab-df-convert');\n",
              "        buttonEl.style.display =\n",
              "          google.colab.kernel.accessAllowed ? 'block' : 'none';\n",
              "\n",
              "        async function convertToInteractive(key) {\n",
              "          const element = document.querySelector('#df-b41e9d51-daf5-437a-b133-c3ac8fac8c55');\n",
              "          const dataTable =\n",
              "            await google.colab.kernel.invokeFunction('convertToInteractive',\n",
              "                                                     [key], {});\n",
              "          if (!dataTable) return;\n",
              "\n",
              "          const docLinkHtml = 'Like what you see? Visit the ' +\n",
              "            '<a target=\"_blank\" href=https://colab.research.google.com/notebooks/data_table.ipynb>data table notebook</a>'\n",
              "            + ' to learn more about interactive tables.';\n",
              "          element.innerHTML = '';\n",
              "          dataTable['output_type'] = 'display_data';\n",
              "          await google.colab.output.renderOutput(dataTable, element);\n",
              "          const docLink = document.createElement('div');\n",
              "          docLink.innerHTML = docLinkHtml;\n",
              "          element.appendChild(docLink);\n",
              "        }\n",
              "      </script>\n",
              "    </div>\n",
              "  </div>\n"
            ]
          },
          "metadata": {},
          "execution_count": 3
        }
      ]
    },
    {
      "cell_type": "code",
      "source": [
        "y=data['Species']\n",
        "y.head(5)"
      ],
      "metadata": {
        "colab": {
          "base_uri": "https://localhost:8080/"
        },
        "id": "owuWTvwsmhZb",
        "outputId": "11143580-1cff-4ac4-a04e-9ad133767424"
      },
      "execution_count": 4,
      "outputs": [
        {
          "output_type": "execute_result",
          "data": {
            "text/plain": [
              "0    Iris-setosa\n",
              "1    Iris-setosa\n",
              "2    Iris-setosa\n",
              "3    Iris-setosa\n",
              "4    Iris-setosa\n",
              "Name: Species, dtype: object"
            ]
          },
          "metadata": {},
          "execution_count": 4
        }
      ]
    },
    {
      "cell_type": "code",
      "source": [
        "from sklearn.model_selection import train_test_split\n",
        "x_train,x_test,y_train,y_test=train_test_split(x,y,test_size=0.3)"
      ],
      "metadata": {
        "id": "rDKIgly2moCq"
      },
      "execution_count": 13,
      "outputs": []
    },
    {
      "cell_type": "code",
      "source": [],
      "metadata": {
        "id": "U_RVQxeOm5Qq"
      },
      "execution_count": null,
      "outputs": []
    },
    {
      "cell_type": "markdown",
      "source": [
        "## KNN"
      ],
      "metadata": {
        "id": "M-hKuuKwuTPt"
      }
    },
    {
      "cell_type": "code",
      "source": [
        "from sklearn.neighbors import KNeighborsClassifier\n",
        "knn=KNeighborsClassifier()\n",
        "knn.fit(x_train,y_train)\n",
        "knn.score(x_test,y_test)"
      ],
      "metadata": {
        "colab": {
          "base_uri": "https://localhost:8080/"
        },
        "id": "v1gTmqz3nKBB",
        "outputId": "4e9194c7-3d18-4416-c28c-16c092f1bc26"
      },
      "execution_count": 25,
      "outputs": [
        {
          "output_type": "execute_result",
          "data": {
            "text/plain": [
              "0.9333333333333333"
            ]
          },
          "metadata": {},
          "execution_count": 25
        }
      ]
    },
    {
      "cell_type": "markdown",
      "source": [],
      "metadata": {
        "id": "-irhfbylud4C"
      }
    },
    {
      "cell_type": "code",
      "source": [],
      "metadata": {
        "id": "cfr2u1PFnhPN"
      },
      "execution_count": null,
      "outputs": []
    },
    {
      "cell_type": "markdown",
      "source": [
        "## Random Forest"
      ],
      "metadata": {
        "id": "D-s_1Mbanjy0"
      }
    },
    {
      "cell_type": "code",
      "source": [
        "from sklearn.ensemble import RandomForestClassifier\n",
        "rf=RandomForestClassifier()\n",
        "rf.fit(x_train,y_train)\n",
        "rf.score(x_test,y_test)"
      ],
      "metadata": {
        "colab": {
          "base_uri": "https://localhost:8080/"
        },
        "id": "GVRIKhRrnnwi",
        "outputId": "4ae13c09-4853-4465-9498-e9ab6292dd34"
      },
      "execution_count": 15,
      "outputs": [
        {
          "output_type": "execute_result",
          "data": {
            "text/plain": [
              "0.9555555555555556"
            ]
          },
          "metadata": {},
          "execution_count": 15
        }
      ]
    },
    {
      "cell_type": "code",
      "source": [],
      "metadata": {
        "id": "3muxrQ7NoTLL"
      },
      "execution_count": null,
      "outputs": []
    },
    {
      "cell_type": "markdown",
      "source": [
        "## Naive Bayes"
      ],
      "metadata": {
        "id": "O2rIi3FcoVvx"
      }
    },
    {
      "cell_type": "code",
      "source": [
        "from sklearn.naive_bayes import GaussianNB\n",
        "nb=GaussianNB()\n",
        "nb.fit(x_train,y_train)\n",
        "nb.score(x_test,y_test)"
      ],
      "metadata": {
        "colab": {
          "base_uri": "https://localhost:8080/"
        },
        "id": "51S60sfgob9P",
        "outputId": "da6b35c3-b082-4b53-ef64-d3747604595d"
      },
      "execution_count": 16,
      "outputs": [
        {
          "output_type": "execute_result",
          "data": {
            "text/plain": [
              "0.9555555555555556"
            ]
          },
          "metadata": {},
          "execution_count": 16
        }
      ]
    },
    {
      "cell_type": "code",
      "source": [],
      "metadata": {
        "id": "DXUUlnpMpnxg"
      },
      "execution_count": null,
      "outputs": []
    },
    {
      "cell_type": "markdown",
      "source": [
        "## Support Vector Machine"
      ],
      "metadata": {
        "id": "WyDDsLNippzO"
      }
    },
    {
      "cell_type": "code",
      "source": [
        "from sklearn.svm import SVC\n",
        "svm=SVC()\n",
        "svm.fit(x_train,y_train)\n",
        "svm.score(x_test,y_test)\n"
      ],
      "metadata": {
        "colab": {
          "base_uri": "https://localhost:8080/"
        },
        "id": "C9cRAIfJptgI",
        "outputId": "47981885-7d41-4348-c6dc-1160eb7c326d"
      },
      "execution_count": 17,
      "outputs": [
        {
          "output_type": "execute_result",
          "data": {
            "text/plain": [
              "0.9333333333333333"
            ]
          },
          "metadata": {},
          "execution_count": 17
        }
      ]
    },
    {
      "cell_type": "markdown",
      "source": [
        "according to accuary score the random forest and naive bayes are the best algorithms for this model but when we run the entire code again and again then training data set and testing data set will be change randomly time to time due to that the accuracy score also will be change according to 'train_test_split'\n",
        "method. because of that by considering accuracy score we can't guarantee the best algorithm for specific model"
      ],
      "metadata": {
        "id": "dqWGPcYNquug"
      }
    },
    {
      "cell_type": "code",
      "source": [],
      "metadata": {
        "id": "jvjQgGCAp8xc"
      },
      "execution_count": null,
      "outputs": []
    },
    {
      "cell_type": "markdown",
      "source": [
        "that why we must use cross validation"
      ],
      "metadata": {
        "id": "OdGxKoeKs2Fc"
      }
    },
    {
      "cell_type": "code",
      "source": [],
      "metadata": {
        "id": "tRUbVHn4s6PA"
      },
      "execution_count": null,
      "outputs": []
    },
    {
      "cell_type": "markdown",
      "source": [
        "![image.png](data:image/png;base64,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)"
      ],
      "metadata": {
        "id": "r043_LTbs7u0"
      }
    },
    {
      "cell_type": "code",
      "source": [
        "import pandas as pd\n",
        "data=pd.read_csv('Iris.csv')\n",
        "data=data.drop('Id',axis=1)"
      ],
      "metadata": {
        "id": "3bqw_Tyjs-j0"
      },
      "execution_count": 18,
      "outputs": []
    },
    {
      "cell_type": "code",
      "source": [
        "x=data.drop('Species',axis=1)\n",
        "x.head(5)"
      ],
      "metadata": {
        "colab": {
          "base_uri": "https://localhost:8080/",
          "height": 206
        },
        "id": "FiSu-_wJtZU-",
        "outputId": "4e77c785-c5c0-41c6-f8ab-8b061ff466b5"
      },
      "execution_count": 19,
      "outputs": [
        {
          "output_type": "execute_result",
          "data": {
            "text/plain": [
              "   SepalLengthCm  SepalWidthCm  PetalLengthCm  PetalWidthCm\n",
              "0            5.1           3.5            1.4           0.2\n",
              "1            4.9           3.0            1.4           0.2\n",
              "2            4.7           3.2            1.3           0.2\n",
              "3            4.6           3.1            1.5           0.2\n",
              "4            5.0           3.6            1.4           0.2"
            ],
            "text/html": [
              "\n",
              "\n",
              "  <div id=\"df-6c190852-3a13-40d9-8c79-4d5955a00b98\">\n",
              "    <div class=\"colab-df-container\">\n",
              "      <div>\n",
              "<style scoped>\n",
              "    .dataframe tbody tr th:only-of-type {\n",
              "        vertical-align: middle;\n",
              "    }\n",
              "\n",
              "    .dataframe tbody tr th {\n",
              "        vertical-align: top;\n",
              "    }\n",
              "\n",
              "    .dataframe thead th {\n",
              "        text-align: right;\n",
              "    }\n",
              "</style>\n",
              "<table border=\"1\" class=\"dataframe\">\n",
              "  <thead>\n",
              "    <tr style=\"text-align: right;\">\n",
              "      <th></th>\n",
              "      <th>SepalLengthCm</th>\n",
              "      <th>SepalWidthCm</th>\n",
              "      <th>PetalLengthCm</th>\n",
              "      <th>PetalWidthCm</th>\n",
              "    </tr>\n",
              "  </thead>\n",
              "  <tbody>\n",
              "    <tr>\n",
              "      <th>0</th>\n",
              "      <td>5.1</td>\n",
              "      <td>3.5</td>\n",
              "      <td>1.4</td>\n",
              "      <td>0.2</td>\n",
              "    </tr>\n",
              "    <tr>\n",
              "      <th>1</th>\n",
              "      <td>4.9</td>\n",
              "      <td>3.0</td>\n",
              "      <td>1.4</td>\n",
              "      <td>0.2</td>\n",
              "    </tr>\n",
              "    <tr>\n",
              "      <th>2</th>\n",
              "      <td>4.7</td>\n",
              "      <td>3.2</td>\n",
              "      <td>1.3</td>\n",
              "      <td>0.2</td>\n",
              "    </tr>\n",
              "    <tr>\n",
              "      <th>3</th>\n",
              "      <td>4.6</td>\n",
              "      <td>3.1</td>\n",
              "      <td>1.5</td>\n",
              "      <td>0.2</td>\n",
              "    </tr>\n",
              "    <tr>\n",
              "      <th>4</th>\n",
              "      <td>5.0</td>\n",
              "      <td>3.6</td>\n",
              "      <td>1.4</td>\n",
              "      <td>0.2</td>\n",
              "    </tr>\n",
              "  </tbody>\n",
              "</table>\n",
              "</div>\n",
              "      <button class=\"colab-df-convert\" onclick=\"convertToInteractive('df-6c190852-3a13-40d9-8c79-4d5955a00b98')\"\n",
              "              title=\"Convert this dataframe to an interactive table.\"\n",
              "              style=\"display:none;\">\n",
              "\n",
              "  <svg xmlns=\"http://www.w3.org/2000/svg\" height=\"24px\"viewBox=\"0 0 24 24\"\n",
              "       width=\"24px\">\n",
              "    <path d=\"M0 0h24v24H0V0z\" fill=\"none\"/>\n",
              "    <path d=\"M18.56 5.44l.94 2.06.94-2.06 2.06-.94-2.06-.94-.94-2.06-.94 2.06-2.06.94zm-11 1L8.5 8.5l.94-2.06 2.06-.94-2.06-.94L8.5 2.5l-.94 2.06-2.06.94zm10 10l.94 2.06.94-2.06 2.06-.94-2.06-.94-.94-2.06-.94 2.06-2.06.94z\"/><path d=\"M17.41 7.96l-1.37-1.37c-.4-.4-.92-.59-1.43-.59-.52 0-1.04.2-1.43.59L10.3 9.45l-7.72 7.72c-.78.78-.78 2.05 0 2.83L4 21.41c.39.39.9.59 1.41.59.51 0 1.02-.2 1.41-.59l7.78-7.78 2.81-2.81c.8-.78.8-2.07 0-2.86zM5.41 20L4 18.59l7.72-7.72 1.47 1.35L5.41 20z\"/>\n",
              "  </svg>\n",
              "      </button>\n",
              "\n",
              "\n",
              "\n",
              "    <div id=\"df-7b9c839a-3c3e-4a95-861d-f7660ad1784f\">\n",
              "      <button class=\"colab-df-quickchart\" onclick=\"quickchart('df-7b9c839a-3c3e-4a95-861d-f7660ad1784f')\"\n",
              "              title=\"Suggest charts.\"\n",
              "              style=\"display:none;\">\n",
              "\n",
              "<svg xmlns=\"http://www.w3.org/2000/svg\" height=\"24px\"viewBox=\"0 0 24 24\"\n",
              "     width=\"24px\">\n",
              "    <g>\n",
              "        <path d=\"M19 3H5c-1.1 0-2 .9-2 2v14c0 1.1.9 2 2 2h14c1.1 0 2-.9 2-2V5c0-1.1-.9-2-2-2zM9 17H7v-7h2v7zm4 0h-2V7h2v10zm4 0h-2v-4h2v4z\"/>\n",
              "    </g>\n",
              "</svg>\n",
              "      </button>\n",
              "    </div>\n",
              "\n",
              "<style>\n",
              "  .colab-df-quickchart {\n",
              "    background-color: #E8F0FE;\n",
              "    border: none;\n",
              "    border-radius: 50%;\n",
              "    cursor: pointer;\n",
              "    display: none;\n",
              "    fill: #1967D2;\n",
              "    height: 32px;\n",
              "    padding: 0 0 0 0;\n",
              "    width: 32px;\n",
              "  }\n",
              "\n",
              "  .colab-df-quickchart:hover {\n",
              "    background-color: #E2EBFA;\n",
              "    box-shadow: 0px 1px 2px rgba(60, 64, 67, 0.3), 0px 1px 3px 1px rgba(60, 64, 67, 0.15);\n",
              "    fill: #174EA6;\n",
              "  }\n",
              "\n",
              "  [theme=dark] .colab-df-quickchart {\n",
              "    background-color: #3B4455;\n",
              "    fill: #D2E3FC;\n",
              "  }\n",
              "\n",
              "  [theme=dark] .colab-df-quickchart:hover {\n",
              "    background-color: #434B5C;\n",
              "    box-shadow: 0px 1px 3px 1px rgba(0, 0, 0, 0.15);\n",
              "    filter: drop-shadow(0px 1px 2px rgba(0, 0, 0, 0.3));\n",
              "    fill: #FFFFFF;\n",
              "  }\n",
              "</style>\n",
              "\n",
              "    <script>\n",
              "      async function quickchart(key) {\n",
              "        const containerElement = document.querySelector('#' + key);\n",
              "        const charts = await google.colab.kernel.invokeFunction(\n",
              "            'suggestCharts', [key], {});\n",
              "      }\n",
              "    </script>\n",
              "\n",
              "      <script>\n",
              "\n",
              "function displayQuickchartButton(domScope) {\n",
              "  let quickchartButtonEl =\n",
              "    domScope.querySelector('#df-7b9c839a-3c3e-4a95-861d-f7660ad1784f button.colab-df-quickchart');\n",
              "  quickchartButtonEl.style.display =\n",
              "    google.colab.kernel.accessAllowed ? 'block' : 'none';\n",
              "}\n",
              "\n",
              "        displayQuickchartButton(document);\n",
              "      </script>\n",
              "      <style>\n",
              "    .colab-df-container {\n",
              "      display:flex;\n",
              "      flex-wrap:wrap;\n",
              "      gap: 12px;\n",
              "    }\n",
              "\n",
              "    .colab-df-convert {\n",
              "      background-color: #E8F0FE;\n",
              "      border: none;\n",
              "      border-radius: 50%;\n",
              "      cursor: pointer;\n",
              "      display: none;\n",
              "      fill: #1967D2;\n",
              "      height: 32px;\n",
              "      padding: 0 0 0 0;\n",
              "      width: 32px;\n",
              "    }\n",
              "\n",
              "    .colab-df-convert:hover {\n",
              "      background-color: #E2EBFA;\n",
              "      box-shadow: 0px 1px 2px rgba(60, 64, 67, 0.3), 0px 1px 3px 1px rgba(60, 64, 67, 0.15);\n",
              "      fill: #174EA6;\n",
              "    }\n",
              "\n",
              "    [theme=dark] .colab-df-convert {\n",
              "      background-color: #3B4455;\n",
              "      fill: #D2E3FC;\n",
              "    }\n",
              "\n",
              "    [theme=dark] .colab-df-convert:hover {\n",
              "      background-color: #434B5C;\n",
              "      box-shadow: 0px 1px 3px 1px rgba(0, 0, 0, 0.15);\n",
              "      filter: drop-shadow(0px 1px 2px rgba(0, 0, 0, 0.3));\n",
              "      fill: #FFFFFF;\n",
              "    }\n",
              "  </style>\n",
              "\n",
              "      <script>\n",
              "        const buttonEl =\n",
              "          document.querySelector('#df-6c190852-3a13-40d9-8c79-4d5955a00b98 button.colab-df-convert');\n",
              "        buttonEl.style.display =\n",
              "          google.colab.kernel.accessAllowed ? 'block' : 'none';\n",
              "\n",
              "        async function convertToInteractive(key) {\n",
              "          const element = document.querySelector('#df-6c190852-3a13-40d9-8c79-4d5955a00b98');\n",
              "          const dataTable =\n",
              "            await google.colab.kernel.invokeFunction('convertToInteractive',\n",
              "                                                     [key], {});\n",
              "          if (!dataTable) return;\n",
              "\n",
              "          const docLinkHtml = 'Like what you see? Visit the ' +\n",
              "            '<a target=\"_blank\" href=https://colab.research.google.com/notebooks/data_table.ipynb>data table notebook</a>'\n",
              "            + ' to learn more about interactive tables.';\n",
              "          element.innerHTML = '';\n",
              "          dataTable['output_type'] = 'display_data';\n",
              "          await google.colab.output.renderOutput(dataTable, element);\n",
              "          const docLink = document.createElement('div');\n",
              "          docLink.innerHTML = docLinkHtml;\n",
              "          element.appendChild(docLink);\n",
              "        }\n",
              "      </script>\n",
              "    </div>\n",
              "  </div>\n"
            ]
          },
          "metadata": {},
          "execution_count": 19
        }
      ]
    },
    {
      "cell_type": "code",
      "source": [
        "data.head()"
      ],
      "metadata": {
        "colab": {
          "base_uri": "https://localhost:8080/",
          "height": 250
        },
        "id": "jmi98nk_tiWd",
        "outputId": "9208ab04-5d9b-489a-8c54-362c485ec739"
      },
      "execution_count": 20,
      "outputs": [
        {
          "output_type": "execute_result",
          "data": {
            "text/plain": [
              "   SepalLengthCm  SepalWidthCm  PetalLengthCm  PetalWidthCm      Species\n",
              "0            5.1           3.5            1.4           0.2  Iris-setosa\n",
              "1            4.9           3.0            1.4           0.2  Iris-setosa\n",
              "2            4.7           3.2            1.3           0.2  Iris-setosa\n",
              "3            4.6           3.1            1.5           0.2  Iris-setosa\n",
              "4            5.0           3.6            1.4           0.2  Iris-setosa"
            ],
            "text/html": [
              "\n",
              "\n",
              "  <div id=\"df-e65392e4-2dd4-4538-9470-4d0043d6d6f3\">\n",
              "    <div class=\"colab-df-container\">\n",
              "      <div>\n",
              "<style scoped>\n",
              "    .dataframe tbody tr th:only-of-type {\n",
              "        vertical-align: middle;\n",
              "    }\n",
              "\n",
              "    .dataframe tbody tr th {\n",
              "        vertical-align: top;\n",
              "    }\n",
              "\n",
              "    .dataframe thead th {\n",
              "        text-align: right;\n",
              "    }\n",
              "</style>\n",
              "<table border=\"1\" class=\"dataframe\">\n",
              "  <thead>\n",
              "    <tr style=\"text-align: right;\">\n",
              "      <th></th>\n",
              "      <th>SepalLengthCm</th>\n",
              "      <th>SepalWidthCm</th>\n",
              "      <th>PetalLengthCm</th>\n",
              "      <th>PetalWidthCm</th>\n",
              "      <th>Species</th>\n",
              "    </tr>\n",
              "  </thead>\n",
              "  <tbody>\n",
              "    <tr>\n",
              "      <th>0</th>\n",
              "      <td>5.1</td>\n",
              "      <td>3.5</td>\n",
              "      <td>1.4</td>\n",
              "      <td>0.2</td>\n",
              "      <td>Iris-setosa</td>\n",
              "    </tr>\n",
              "    <tr>\n",
              "      <th>1</th>\n",
              "      <td>4.9</td>\n",
              "      <td>3.0</td>\n",
              "      <td>1.4</td>\n",
              "      <td>0.2</td>\n",
              "      <td>Iris-setosa</td>\n",
              "    </tr>\n",
              "    <tr>\n",
              "      <th>2</th>\n",
              "      <td>4.7</td>\n",
              "      <td>3.2</td>\n",
              "      <td>1.3</td>\n",
              "      <td>0.2</td>\n",
              "      <td>Iris-setosa</td>\n",
              "    </tr>\n",
              "    <tr>\n",
              "      <th>3</th>\n",
              "      <td>4.6</td>\n",
              "      <td>3.1</td>\n",
              "      <td>1.5</td>\n",
              "      <td>0.2</td>\n",
              "      <td>Iris-setosa</td>\n",
              "    </tr>\n",
              "    <tr>\n",
              "      <th>4</th>\n",
              "      <td>5.0</td>\n",
              "      <td>3.6</td>\n",
              "      <td>1.4</td>\n",
              "      <td>0.2</td>\n",
              "      <td>Iris-setosa</td>\n",
              "    </tr>\n",
              "  </tbody>\n",
              "</table>\n",
              "</div>\n",
              "      <button class=\"colab-df-convert\" onclick=\"convertToInteractive('df-e65392e4-2dd4-4538-9470-4d0043d6d6f3')\"\n",
              "              title=\"Convert this dataframe to an interactive table.\"\n",
              "              style=\"display:none;\">\n",
              "\n",
              "  <svg xmlns=\"http://www.w3.org/2000/svg\" height=\"24px\"viewBox=\"0 0 24 24\"\n",
              "       width=\"24px\">\n",
              "    <path d=\"M0 0h24v24H0V0z\" fill=\"none\"/>\n",
              "    <path d=\"M18.56 5.44l.94 2.06.94-2.06 2.06-.94-2.06-.94-.94-2.06-.94 2.06-2.06.94zm-11 1L8.5 8.5l.94-2.06 2.06-.94-2.06-.94L8.5 2.5l-.94 2.06-2.06.94zm10 10l.94 2.06.94-2.06 2.06-.94-2.06-.94-.94-2.06-.94 2.06-2.06.94z\"/><path d=\"M17.41 7.96l-1.37-1.37c-.4-.4-.92-.59-1.43-.59-.52 0-1.04.2-1.43.59L10.3 9.45l-7.72 7.72c-.78.78-.78 2.05 0 2.83L4 21.41c.39.39.9.59 1.41.59.51 0 1.02-.2 1.41-.59l7.78-7.78 2.81-2.81c.8-.78.8-2.07 0-2.86zM5.41 20L4 18.59l7.72-7.72 1.47 1.35L5.41 20z\"/>\n",
              "  </svg>\n",
              "      </button>\n",
              "\n",
              "\n",
              "\n",
              "    <div id=\"df-13685fdd-5498-4c9c-a892-fc0c072d8cc5\">\n",
              "      <button class=\"colab-df-quickchart\" onclick=\"quickchart('df-13685fdd-5498-4c9c-a892-fc0c072d8cc5')\"\n",
              "              title=\"Suggest charts.\"\n",
              "              style=\"display:none;\">\n",
              "\n",
              "<svg xmlns=\"http://www.w3.org/2000/svg\" height=\"24px\"viewBox=\"0 0 24 24\"\n",
              "     width=\"24px\">\n",
              "    <g>\n",
              "        <path d=\"M19 3H5c-1.1 0-2 .9-2 2v14c0 1.1.9 2 2 2h14c1.1 0 2-.9 2-2V5c0-1.1-.9-2-2-2zM9 17H7v-7h2v7zm4 0h-2V7h2v10zm4 0h-2v-4h2v4z\"/>\n",
              "    </g>\n",
              "</svg>\n",
              "      </button>\n",
              "    </div>\n",
              "\n",
              "<style>\n",
              "  .colab-df-quickchart {\n",
              "    background-color: #E8F0FE;\n",
              "    border: none;\n",
              "    border-radius: 50%;\n",
              "    cursor: pointer;\n",
              "    display: none;\n",
              "    fill: #1967D2;\n",
              "    height: 32px;\n",
              "    padding: 0 0 0 0;\n",
              "    width: 32px;\n",
              "  }\n",
              "\n",
              "  .colab-df-quickchart:hover {\n",
              "    background-color: #E2EBFA;\n",
              "    box-shadow: 0px 1px 2px rgba(60, 64, 67, 0.3), 0px 1px 3px 1px rgba(60, 64, 67, 0.15);\n",
              "    fill: #174EA6;\n",
              "  }\n",
              "\n",
              "  [theme=dark] .colab-df-quickchart {\n",
              "    background-color: #3B4455;\n",
              "    fill: #D2E3FC;\n",
              "  }\n",
              "\n",
              "  [theme=dark] .colab-df-quickchart:hover {\n",
              "    background-color: #434B5C;\n",
              "    box-shadow: 0px 1px 3px 1px rgba(0, 0, 0, 0.15);\n",
              "    filter: drop-shadow(0px 1px 2px rgba(0, 0, 0, 0.3));\n",
              "    fill: #FFFFFF;\n",
              "  }\n",
              "</style>\n",
              "\n",
              "    <script>\n",
              "      async function quickchart(key) {\n",
              "        const containerElement = document.querySelector('#' + key);\n",
              "        const charts = await google.colab.kernel.invokeFunction(\n",
              "            'suggestCharts', [key], {});\n",
              "      }\n",
              "    </script>\n",
              "\n",
              "      <script>\n",
              "\n",
              "function displayQuickchartButton(domScope) {\n",
              "  let quickchartButtonEl =\n",
              "    domScope.querySelector('#df-13685fdd-5498-4c9c-a892-fc0c072d8cc5 button.colab-df-quickchart');\n",
              "  quickchartButtonEl.style.display =\n",
              "    google.colab.kernel.accessAllowed ? 'block' : 'none';\n",
              "}\n",
              "\n",
              "        displayQuickchartButton(document);\n",
              "      </script>\n",
              "      <style>\n",
              "    .colab-df-container {\n",
              "      display:flex;\n",
              "      flex-wrap:wrap;\n",
              "      gap: 12px;\n",
              "    }\n",
              "\n",
              "    .colab-df-convert {\n",
              "      background-color: #E8F0FE;\n",
              "      border: none;\n",
              "      border-radius: 50%;\n",
              "      cursor: pointer;\n",
              "      display: none;\n",
              "      fill: #1967D2;\n",
              "      height: 32px;\n",
              "      padding: 0 0 0 0;\n",
              "      width: 32px;\n",
              "    }\n",
              "\n",
              "    .colab-df-convert:hover {\n",
              "      background-color: #E2EBFA;\n",
              "      box-shadow: 0px 1px 2px rgba(60, 64, 67, 0.3), 0px 1px 3px 1px rgba(60, 64, 67, 0.15);\n",
              "      fill: #174EA6;\n",
              "    }\n",
              "\n",
              "    [theme=dark] .colab-df-convert {\n",
              "      background-color: #3B4455;\n",
              "      fill: #D2E3FC;\n",
              "    }\n",
              "\n",
              "    [theme=dark] .colab-df-convert:hover {\n",
              "      background-color: #434B5C;\n",
              "      box-shadow: 0px 1px 3px 1px rgba(0, 0, 0, 0.15);\n",
              "      filter: drop-shadow(0px 1px 2px rgba(0, 0, 0, 0.3));\n",
              "      fill: #FFFFFF;\n",
              "    }\n",
              "  </style>\n",
              "\n",
              "      <script>\n",
              "        const buttonEl =\n",
              "          document.querySelector('#df-e65392e4-2dd4-4538-9470-4d0043d6d6f3 button.colab-df-convert');\n",
              "        buttonEl.style.display =\n",
              "          google.colab.kernel.accessAllowed ? 'block' : 'none';\n",
              "\n",
              "        async function convertToInteractive(key) {\n",
              "          const element = document.querySelector('#df-e65392e4-2dd4-4538-9470-4d0043d6d6f3');\n",
              "          const dataTable =\n",
              "            await google.colab.kernel.invokeFunction('convertToInteractive',\n",
              "                                                     [key], {});\n",
              "          if (!dataTable) return;\n",
              "\n",
              "          const docLinkHtml = 'Like what you see? Visit the ' +\n",
              "            '<a target=\"_blank\" href=https://colab.research.google.com/notebooks/data_table.ipynb>data table notebook</a>'\n",
              "            + ' to learn more about interactive tables.';\n",
              "          element.innerHTML = '';\n",
              "          dataTable['output_type'] = 'display_data';\n",
              "          await google.colab.output.renderOutput(dataTable, element);\n",
              "          const docLink = document.createElement('div');\n",
              "          docLink.innerHTML = docLinkHtml;\n",
              "          element.appendChild(docLink);\n",
              "        }\n",
              "      </script>\n",
              "    </div>\n",
              "  </div>\n"
            ]
          },
          "metadata": {},
          "execution_count": 20
        }
      ]
    },
    {
      "cell_type": "code",
      "source": [
        "y=data['Species']\n",
        "y"
      ],
      "metadata": {
        "colab": {
          "base_uri": "https://localhost:8080/"
        },
        "id": "3o28ccAftpO7",
        "outputId": "c2d00774-cef2-4a83-caad-4a4a2972cc0b"
      },
      "execution_count": 22,
      "outputs": [
        {
          "output_type": "execute_result",
          "data": {
            "text/plain": [
              "0         Iris-setosa\n",
              "1         Iris-setosa\n",
              "2         Iris-setosa\n",
              "3         Iris-setosa\n",
              "4         Iris-setosa\n",
              "            ...      \n",
              "145    Iris-virginica\n",
              "146    Iris-virginica\n",
              "147    Iris-virginica\n",
              "148    Iris-virginica\n",
              "149    Iris-virginica\n",
              "Name: Species, Length: 150, dtype: object"
            ]
          },
          "metadata": {},
          "execution_count": 22
        }
      ]
    },
    {
      "cell_type": "code",
      "source": [
        "from sklearn.model_selection import cross_val_score"
      ],
      "metadata": {
        "id": "lueda6Ggts6-"
      },
      "execution_count": 24,
      "outputs": []
    },
    {
      "cell_type": "markdown",
      "source": [
        "## KNN"
      ],
      "metadata": {
        "id": "RbH0yNiQugBq"
      }
    },
    {
      "cell_type": "code",
      "source": [
        "from sklearn.neighbors import KNeighborsClassifier\n",
        "knn=KNeighborsClassifier()\n",
        "cross_val_score(knn,x,y,cv=5).mean()"
      ],
      "metadata": {
        "colab": {
          "base_uri": "https://localhost:8080/"
        },
        "outputId": "4c4637a6-bd73-49cb-adf9-0a8724520f8a",
        "id": "llNS4jBRukOT"
      },
      "execution_count": 28,
      "outputs": [
        {
          "output_type": "execute_result",
          "data": {
            "text/plain": [
              "0.9733333333333334"
            ]
          },
          "metadata": {},
          "execution_count": 28
        }
      ]
    },
    {
      "cell_type": "code",
      "source": [],
      "metadata": {
        "id": "RSsuKJhvuy5K"
      },
      "execution_count": null,
      "outputs": []
    },
    {
      "cell_type": "markdown",
      "source": [
        "## Random Forest"
      ],
      "metadata": {
        "id": "Fqt8m8QCu1pi"
      }
    },
    {
      "cell_type": "code",
      "source": [
        "from sklearn.ensemble import RandomForestClassifier\n",
        "rf=RandomForestClassifier()\n",
        "cross_val_score(rf,x,y,cv=5).mean()"
      ],
      "metadata": {
        "colab": {
          "base_uri": "https://localhost:8080/"
        },
        "id": "VqEdz8hju5N6",
        "outputId": "6e79ede1-3dc4-42ac-ee5f-368f88d2d856"
      },
      "execution_count": 29,
      "outputs": [
        {
          "output_type": "execute_result",
          "data": {
            "text/plain": [
              "0.9600000000000002"
            ]
          },
          "metadata": {},
          "execution_count": 29
        }
      ]
    },
    {
      "cell_type": "code",
      "source": [],
      "metadata": {
        "id": "VwIn-_hzvJFT"
      },
      "execution_count": null,
      "outputs": []
    },
    {
      "cell_type": "markdown",
      "source": [
        "## Naive Bayes"
      ],
      "metadata": {
        "id": "FvvikaK8vOMq"
      }
    },
    {
      "cell_type": "code",
      "source": [
        "from sklearn.naive_bayes import GaussianNB\n",
        "nb=GaussianNB()\n",
        "cross_val_score(nb,x,y,cv=5).mean()"
      ],
      "metadata": {
        "colab": {
          "base_uri": "https://localhost:8080/"
        },
        "id": "ndzv4LMgvQ5D",
        "outputId": "9d9628b1-3192-4abc-badf-e0f9684ea7c2"
      },
      "execution_count": 30,
      "outputs": [
        {
          "output_type": "execute_result",
          "data": {
            "text/plain": [
              "0.9533333333333334"
            ]
          },
          "metadata": {},
          "execution_count": 30
        }
      ]
    },
    {
      "cell_type": "code",
      "source": [],
      "metadata": {
        "id": "NLwZXoj5vigu"
      },
      "execution_count": null,
      "outputs": []
    },
    {
      "cell_type": "markdown",
      "source": [
        "## Support Vector Machine"
      ],
      "metadata": {
        "id": "cWNFwJmyvwh0"
      }
    },
    {
      "cell_type": "code",
      "source": [
        "from sklearn.svm import SVC\n",
        "svm=SVC()\n",
        "cross_val_score(svm,x,y,cv=5).mean()"
      ],
      "metadata": {
        "colab": {
          "base_uri": "https://localhost:8080/"
        },
        "id": "MSTp6FbqvzqK",
        "outputId": "48b870d8-b750-455c-d46f-c8b0a7388cd9"
      },
      "execution_count": 33,
      "outputs": [
        {
          "output_type": "execute_result",
          "data": {
            "text/plain": [
              "0.9666666666666666"
            ]
          },
          "metadata": {},
          "execution_count": 33
        }
      ]
    },
    {
      "cell_type": "code",
      "source": [],
      "metadata": {
        "id": "RnnLWHQuwBZM"
      },
      "execution_count": null,
      "outputs": []
    }
  ]
}